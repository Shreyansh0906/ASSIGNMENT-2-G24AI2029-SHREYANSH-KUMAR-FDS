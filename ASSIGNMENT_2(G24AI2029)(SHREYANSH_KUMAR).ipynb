{
  "nbformat": 4,
  "nbformat_minor": 0,
  "metadata": {
    "colab": {
      "provenance": [],
      "authorship_tag": "ABX9TyNsN1qwiPXaFAPNP4Jdq0ir",
      "include_colab_link": true
    },
    "kernelspec": {
      "name": "python3",
      "display_name": "Python 3"
    },
    "language_info": {
      "name": "python"
    }
  },
  "cells": [
    {
      "cell_type": "markdown",
      "metadata": {
        "id": "view-in-github",
        "colab_type": "text"
      },
      "source": [
        "<a href=\"https://colab.research.google.com/github/Shreyansh0906/DATA-SCIENCE-FDS/blob/main/ASSIGNMENT_2(G24AI2029)(SHREYANSH_KUMAR).ipynb\" target=\"_parent\"><img src=\"https://colab.research.google.com/assets/colab-badge.svg\" alt=\"Open In Colab\"/></a>"
      ]
    },
    {
      "cell_type": "code",
      "execution_count": 1,
      "metadata": {
        "colab": {
          "base_uri": "https://localhost:8080/"
        },
        "id": "-P-5BTEH3SNl",
        "outputId": "c0365163-90c7-42bf-8120-1dafdd97ebab"
      },
      "outputs": [
        {
          "output_type": "stream",
          "name": "stdout",
          "text": [
            "Collecting mrjob\n",
            "  Downloading mrjob-0.7.4-py2.py3-none-any.whl.metadata (7.3 kB)\n",
            "Requirement already satisfied: PyYAML>=3.10 in /usr/local/lib/python3.11/dist-packages (from mrjob) (6.0.2)\n",
            "Downloading mrjob-0.7.4-py2.py3-none-any.whl (439 kB)\n",
            "\u001b[?25l   \u001b[90m━━━━━━━━━━━━━━━━━━━━━━━━━━━━━━━━━━━━━━━━\u001b[0m \u001b[32m0.0/439.6 kB\u001b[0m \u001b[31m?\u001b[0m eta \u001b[36m-:--:--\u001b[0m\r\u001b[2K   \u001b[90m━━━━━━━━━━━━━━━━━━━━━━━━━━━━━━━━━━━━━━━━\u001b[0m \u001b[32m439.6/439.6 kB\u001b[0m \u001b[31m19.2 MB/s\u001b[0m eta \u001b[36m0:00:00\u001b[0m\n",
            "\u001b[?25hInstalling collected packages: mrjob\n",
            "Successfully installed mrjob-0.7.4\n",
            "update-alternatives: using /usr/lib/jvm/java-8-openjdk-amd64/jre/bin/java to provide /usr/bin/java (java) in manual mode\n"
          ]
        }
      ],
      "source": [
        "# Install mrjob and setup Hadoop\n",
        "!pip install mrjob\n",
        "!apt-get install -y openjdk-8-jdk-headless -qq > /dev/null\n",
        "!update-alternatives --set java /usr/lib/jvm/java-8-openjdk-amd64/jre/bin/java\n",
        "\n",
        "import os\n",
        "os.environ[\"JAVA_HOME\"] = \"/usr/lib/jvm/java-8-openjdk-amd64\"\n"
      ]
    },
    {
      "cell_type": "code",
      "source": [
        "!wget -O Cruise.csv https://github.com/Shreyansh0906/FDS-ASSIGNMENT-2-CSV-FILES/blob/main/Cruise.csv\n",
        "!wget -O Customer_Churn.csv https://github.com/Shreyansh0906/FDS-ASSIGNMENT-2-CSV-FILES/blob/main/Customer%20Churn.csv\n",
        "!wget -O Ecommerce_Customers.csv https://github.com/Shreyansh0906/FDS-ASSIGNMENT-2-CSV-FILES/blob/main/Ecommerce%20Customers.csv\n"
      ],
      "metadata": {
        "colab": {
          "base_uri": "https://localhost:8080/"
        },
        "id": "KoLpdHrh4Xum",
        "outputId": "44c12955-4b41-4353-ff78-e4a4f8bba2ad"
      },
      "execution_count": 3,
      "outputs": [
        {
          "output_type": "stream",
          "name": "stdout",
          "text": [
            "--2025-07-29 15:57:20--  https://github.com/Shreyansh0906/FDS-ASSIGNMENT-2-CSV-FILES/blob/main/Cruise.csv\n",
            "Resolving github.com (github.com)... 140.82.112.3\n",
            "Connecting to github.com (github.com)|140.82.112.3|:443... connected.\n",
            "HTTP request sent, awaiting response... 200 OK\n",
            "Length: unspecified [text/html]\n",
            "Saving to: ‘Cruise.csv’\n",
            "\n",
            "\rCruise.csv              [<=>                 ]       0  --.-KB/s               \rCruise.csv              [ <=>                ] 187.33K  --.-KB/s    in 0.008s  \n",
            "\n",
            "2025-07-29 15:57:20 (23.4 MB/s) - ‘Cruise.csv’ saved [191822]\n",
            "\n",
            "--2025-07-29 15:57:20--  https://github.com/Shreyansh0906/FDS-ASSIGNMENT-2-CSV-FILES/blob/main/Customer%20Churn.csv\n",
            "Resolving github.com (github.com)... 140.82.112.4\n",
            "Connecting to github.com (github.com)|140.82.112.4|:443... connected.\n",
            "HTTP request sent, awaiting response... 200 OK\n",
            "Length: unspecified [text/html]\n",
            "Saving to: ‘Customer_Churn.csv’\n",
            "\n",
            "Customer_Churn.csv      [ <=>                ] 300.00K  --.-KB/s    in 0.007s  \n",
            "\n",
            "2025-07-29 15:57:21 (40.9 MB/s) - ‘Customer_Churn.csv’ saved [307197]\n",
            "\n",
            "--2025-07-29 15:57:21--  https://github.com/Shreyansh0906/FDS-ASSIGNMENT-2-CSV-FILES/blob/main/Ecommerce%20Customers.csv\n",
            "Resolving github.com (github.com)... 140.82.113.3\n",
            "Connecting to github.com (github.com)|140.82.113.3|:443... connected.\n",
            "HTTP request sent, awaiting response... 200 OK\n",
            "Length: unspecified [text/html]\n",
            "Saving to: ‘Ecommerce_Customers.csv’\n",
            "\n",
            "Ecommerce_Customers     [ <=>                ] 270.01K  --.-KB/s    in 0.004s  \n",
            "\n",
            "2025-07-29 15:57:21 (63.4 MB/s) - ‘Ecommerce_Customers.csv’ saved [276490]\n",
            "\n"
          ]
        }
      ]
    },
    {
      "cell_type": "code",
      "source": [
        "# Q1: Cruiseline Aggregations using mrjob\n",
        "from mrjob.job import MRJob\n",
        "from mrjob.step import MRStep\n",
        "import sys\n",
        "\n",
        "class CruiseLineAggregation(MRJob):\n",
        "\n",
        "    def mapper(self, _, line):\n",
        "        # Skip header\n",
        "        if line.startswith(\"Ship Name\"):\n",
        "            return\n",
        "        try:\n",
        "            fields = line.split(',')\n",
        "            cruise_line = fields[4].strip()\n",
        "            tonnage = float(fields[1])\n",
        "            crew = float(fields[3])\n",
        "            yield cruise_line, (1, tonnage, crew)  # count=1, tonnage, crew\n",
        "        except:\n",
        "            pass  # skip malformed lines\n",
        "\n",
        "    def combiner(self, cruise_line, values):\n",
        "        total_ships, total_tonnage, max_crew = 0, 0.0, 0.0\n",
        "        for count, tonnage, crew in values:\n",
        "            total_ships += count\n",
        "            total_tonnage += tonnage\n",
        "            max_crew = max(max_crew, crew)\n",
        "        yield cruise_line, (total_ships, total_tonnage, max_crew)\n",
        "\n",
        "    def reducer(self, cruise_line, values):\n",
        "        total_ships, total_tonnage, max_crew = 0, 0.0, 0.0\n",
        "        for count, tonnage, crew in values:\n",
        "            total_ships += count\n",
        "            total_tonnage += tonnage\n",
        "            max_crew = max(max_crew, crew)\n",
        "        avg_tonnage = round(total_tonnage / total_ships, 2)\n",
        "        yield cruise_line, {\n",
        "            \"Total Ships\": total_ships,\n",
        "            \"Avg Tonnage\": avg_tonnage,\n",
        "            \"Max Crew\": max_crew\n",
        "        }\n",
        "\n",
        "if __name__ == '__main__':\n",
        "    # Pass the input file explicitly to the mrjob script\n",
        "    # Use sys.argv[1:] to get arguments passed when running as a script\n",
        "    # If running directly in Colab, you'll need to use the ! command\n",
        "    if 'ipykernel' in sys.modules:\n",
        "        # Running in Colab or Jupyter\n",
        "        !python {sys.argv[0]} Cruise.csv\n",
        "    else:\n",
        "        # Running as a standard Python script\n",
        "        CruiseLineAggregation.run()"
      ],
      "metadata": {
        "colab": {
          "base_uri": "https://localhost:8080/"
        },
        "id": "fPw0d3a36GnZ",
        "outputId": "d77ca98f-0b72-4fff-9b67-87991d0acebc"
      },
      "execution_count": 10,
      "outputs": [
        {
          "output_type": "stream",
          "name": "stdout",
          "text": [
            "0.00s - Debugger warning: It seems that frozen modules are being used, which may\n",
            "0.00s - make the debugger miss breakpoints. Please pass -Xfrozen_modules=off\n",
            "0.00s - to python to disable frozen modules.\n",
            "0.00s - Note: Debugging will proceed. Set PYDEVD_DISABLE_FILE_VALIDATION=1 to disable this validation.\n",
            "\n",
            "^C\n"
          ]
        }
      ]
    },
    {
      "cell_type": "code",
      "source": [
        "# Save a sample to test\n",
        "%%writefile cruise_sample.csv\n",
        "Ship Name,Tonnage,Passengers,Crew,Cruise Line\n",
        "Ship A,100.5,200,50.0,Carnival\n",
        "Ship B,120.0,300,55.0,Carnival\n",
        "Ship C,90.0,150,40.0,Norwegian\n",
        "\n",
        "# Run the job on the sample\n",
        "!python CruiseLineAggregation.py cruise_sample.csv\n"
      ],
      "metadata": {
        "colab": {
          "base_uri": "https://localhost:8080/"
        },
        "id": "FqSKzpmv68vj",
        "outputId": "aefc1b4a-469f-428b-ded4-53c19df02806"
      },
      "execution_count": 9,
      "outputs": [
        {
          "output_type": "stream",
          "name": "stdout",
          "text": [
            "Overwriting cruise_sample.csv\n"
          ]
        }
      ]
    },
    {
      "cell_type": "code",
      "source": [
        "from mrjob.job import MRJob\n",
        "from mrjob.step import MRStep\n",
        "\n",
        "class ChurnRateCalculator(MRJob):\n",
        "\n",
        "    def configure_args(self):\n",
        "        super().configure_args()\n",
        "        self.add_file_arg('--vipfile')\n",
        "\n",
        "    def load_vip_companies(self):\n",
        "        with open(self.options.vipfile, 'r') as f:\n",
        "            return set(line.strip() for line in f if line.strip())\n",
        "\n",
        "    def steps(self):\n",
        "        return [\n",
        "            MRStep(mapper_init=self.mapper_init,\n",
        "                   mapper=self.mapper_step1,\n",
        "                   reducer=self.reducer_step1)\n",
        "        ]\n",
        "\n",
        "    def mapper_init(self):\n",
        "        self.vip_companies = self.load_vip_companies()\n",
        "\n",
        "    def mapper_step1(self, _, line):\n",
        "        # Skip header\n",
        "        if line.startswith(\"CustomerID\"):\n",
        "            return\n",
        "        try:\n",
        "            fields = line.strip().split(',')\n",
        "            company = fields[1].strip()\n",
        "            churn = int(fields[-1])\n",
        "            if company in self.vip_companies:\n",
        "                yield company, ('TOTAL', 1)\n",
        "                if churn == 1:\n",
        "                    yield company, ('CHURNED', 1)\n",
        "        except:\n",
        "            pass\n",
        "\n",
        "    def reducer_step1(self, company, values):\n",
        "        total = churned = 0\n",
        "        for vtype, count in values:\n",
        "            if vtype == 'TOTAL':\n",
        "                total += count\n",
        "            elif vtype == 'CHURNED':\n",
        "                churned += count\n",
        "        if total > 0:\n",
        "            churn_rate = round(churned / total, 4)\n",
        "            yield company, churn_rate\n"
      ],
      "metadata": {
        "id": "s2TOVxQT6_gl"
      },
      "execution_count": 11,
      "outputs": []
    },
    {
      "cell_type": "code",
      "source": [
        "%%writefile churn_sample.csv\n",
        "CustomerID,Company,State,Churn\n",
        "1,TelcoCorp,CA,1\n",
        "2,TelcoCorp,CA,0\n",
        "3,Fibernet,NY,1\n",
        "4,Fibernet,NY,1\n",
        "5,DataStreamX,TX,0\n",
        "6,OtherCorp,FL,1\n"
      ],
      "metadata": {
        "colab": {
          "base_uri": "https://localhost:8080/"
        },
        "id": "FwmCvXWm7fPS",
        "outputId": "382d2cd6-7066-44d4-aaf1-6b8c8b990753"
      },
      "execution_count": 12,
      "outputs": [
        {
          "output_type": "stream",
          "name": "stdout",
          "text": [
            "Writing churn_sample.csv\n"
          ]
        }
      ]
    },
    {
      "cell_type": "code",
      "source": [
        "%%writefile vip_companies.txt\n",
        "TelcoCorp\n",
        "Fibernet\n",
        "DataStreamX\n"
      ],
      "metadata": {
        "colab": {
          "base_uri": "https://localhost:8080/"
        },
        "id": "l4kiUGzD7uBW",
        "outputId": "2c15c7f1-1623-494f-911b-b9d8ecbef72a"
      },
      "execution_count": 13,
      "outputs": [
        {
          "output_type": "stream",
          "name": "stdout",
          "text": [
            "Writing vip_companies.txt\n"
          ]
        }
      ]
    },
    {
      "cell_type": "code",
      "source": [
        "!python ChurnRateCalculator.py churn_sample.csv --vipfile vip_companies.txt\n"
      ],
      "metadata": {
        "colab": {
          "base_uri": "https://localhost:8080/"
        },
        "id": "g8-HMwop7yE7",
        "outputId": "4aa13597-6cd8-4b4f-f46d-bc18ef3d971e"
      },
      "execution_count": 14,
      "outputs": [
        {
          "output_type": "stream",
          "name": "stdout",
          "text": [
            "python3: can't open file '/content/ChurnRateCalculator.py': [Errno 2] No such file or directory\n"
          ]
        }
      ]
    },
    {
      "cell_type": "code",
      "source": [
        "from mrjob.job import MRJob\n",
        "from mrjob.step import MRStep\n",
        "\n",
        "class StateWiseSpending(MRJob):\n",
        "\n",
        "    def mapper(self, _, line):\n",
        "        # Skip header\n",
        "        if line.startswith(\"Email\"):\n",
        "            return\n",
        "        try:\n",
        "            fields = line.strip().split(',')\n",
        "            address = fields[1]\n",
        "            state = address.strip().split()[-2]  # e.g., MI from \"..., MI 12345\"\n",
        "            amount_spent = float(fields[-1])\n",
        "            yield state, amount_spent\n",
        "        except:\n",
        "            pass\n",
        "\n",
        "    def reducer(self, state, amounts):\n",
        "        yield None, (sum(amounts), state)\n",
        "\n",
        "    def reducer_find_top5(self, _, state_amount_pairs):\n",
        "        # Sort by total amount descending, output top 5\n",
        "        top5 = sorted(state_amount_pairs, reverse=True)[:5]\n",
        "        for total, state in top5:\n",
        "            yield state, round(total, 2)\n",
        "\n",
        "    def steps(self):\n",
        "        return [\n",
        "            MRStep(mapper=self.mapper,\n",
        "                   reducer=self.reducer),\n",
        "            MRStep(reducer=self.reducer_find_top5)\n",
        "        ]\n"
      ],
      "metadata": {
        "id": "bSUejQR48DLN"
      },
      "execution_count": 15,
      "outputs": []
    },
    {
      "cell_type": "code",
      "source": [
        "%%writefile ecommerce_sample.csv\n",
        "Email,Address,Avatar,Avg. Session Length,Time on App,Time on Website,Length of Membership,Yearly Amount Spent\n",
        "a@xyz.com,\"123 Maple St, Springfield, IL 62704\",img1,33.0,12.0,10.0,2.0,500.00\n",
        "b@xyz.com,\"9 Elm St, Boston, MA 02118\",img2,34.0,13.0,9.0,3.0,700.00\n",
        "c@xyz.com,\"74 Oak St, Miami, FL 33101\",img3,35.0,14.0,11.0,4.0,800.00\n",
        "d@xyz.com,\"88 Pine St, Boston, MA 02118\",img4,35.0,13.0,10.0,4.0,600.00\n",
        "e@xyz.com,\"990 Birch Rd, Springfield, IL 62704\",img5,32.0,15.0,9.0,5.0,900.00\n"
      ],
      "metadata": {
        "colab": {
          "base_uri": "https://localhost:8080/"
        },
        "id": "IMBFkQE_8IcG",
        "outputId": "0b5536f3-ae8e-4d0d-b83f-5b06b4b1a498"
      },
      "execution_count": 16,
      "outputs": [
        {
          "output_type": "stream",
          "name": "stdout",
          "text": [
            "Writing ecommerce_sample.csv\n"
          ]
        }
      ]
    },
    {
      "cell_type": "code",
      "source": [
        "!python StateWiseSpending.py ecommerce_sample.csv\n"
      ],
      "metadata": {
        "colab": {
          "base_uri": "https://localhost:8080/"
        },
        "id": "LlBPPI4n8MLq",
        "outputId": "d631571a-91be-4d5f-c447-bcc55d694604"
      },
      "execution_count": 17,
      "outputs": [
        {
          "output_type": "stream",
          "name": "stdout",
          "text": [
            "python3: can't open file '/content/StateWiseSpending.py': [Errno 2] No such file or directory\n"
          ]
        }
      ]
    },
    {
      "cell_type": "code",
      "source": [
        "from mrjob.job import MRJob\n",
        "from mrjob.step import MRStep\n",
        "\n",
        "class CruiseLineMedianLength(MRJob):\n",
        "\n",
        "    def steps(self):\n",
        "        return [\n",
        "            MRStep(mapper=self.mapper_filter,\n",
        "                   reducer=self.reducer_collect_lengths),\n",
        "            MRStep(reducer=self.reducer_median)\n",
        "        ]\n",
        "\n",
        "    def mapper_filter(self, _, line):\n",
        "        if line.startswith(\"Ship Name\"):\n",
        "            return\n",
        "        try:\n",
        "            fields = line.strip().split(',')\n",
        "            tonnage = float(fields[1])\n",
        "            passengers = float(fields[2])\n",
        "            length = float(fields[5])\n",
        "            cruise_line = fields[4].strip()\n",
        "\n",
        "            # Filter by passenger density\n",
        "            if tonnage > 0:\n",
        "                density = passengers / tonnage\n",
        "                if density > 35.0:\n",
        "                    yield cruise_line, length\n",
        "        except:\n",
        "            pass\n",
        "\n",
        "    def reducer_collect_lengths(self, cruise_line, lengths):\n",
        "        # Collect all lengths as a list\n",
        "        yield cruise_line, list(lengths)\n",
        "\n",
        "    def reducer_median(self, cruise_line, length_lists):\n",
        "        for lengths in length_lists:\n",
        "            lengths.sort()\n",
        "            n = len(lengths)\n",
        "            if n % 2 == 1:\n",
        "                median = lengths[n // 2]\n",
        "            else:\n",
        "                median = (lengths[n // 2 - 1] + lengths[n // 2]) / 2\n",
        "            yield cruise_line, round(median, 2)\n"
      ],
      "metadata": {
        "id": "HyNb7pxh8U27"
      },
      "execution_count": 18,
      "outputs": []
    },
    {
      "cell_type": "code",
      "source": [
        "%%writefile cruise_median_sample.csv\n",
        "Ship Name,Tonnage,Passengers,Crew,Cruise Line,Length\n",
        "Ship A,2.0,80,50,Carnival,250\n",
        "Ship B,1.0,50,40,Carnival,220\n",
        "Ship C,4.0,100,60,Norwegian,300\n",
        "Ship D,2.0,100,50,Norwegian,280\n",
        "Ship E,3.0,50,45,Carnival,210\n"
      ],
      "metadata": {
        "colab": {
          "base_uri": "https://localhost:8080/"
        },
        "id": "Uq-c3rNU8Z-r",
        "outputId": "c2c28f1a-a193-4490-fe90-0eb42e0402c4"
      },
      "execution_count": 19,
      "outputs": [
        {
          "output_type": "stream",
          "name": "stdout",
          "text": [
            "Writing cruise_median_sample.csv\n"
          ]
        }
      ]
    },
    {
      "cell_type": "code",
      "source": [
        "!python CruiseLineMedianLength.py cruise_median_sample.csv\n"
      ],
      "metadata": {
        "colab": {
          "base_uri": "https://localhost:8080/"
        },
        "id": "5t6YEGK18gl1",
        "outputId": "9fb39c08-6146-476c-f29b-92f47e09adcf"
      },
      "execution_count": 20,
      "outputs": [
        {
          "output_type": "stream",
          "name": "stdout",
          "text": [
            "python3: can't open file '/content/CruiseLineMedianLength.py': [Errno 2] No such file or directory\n"
          ]
        }
      ]
    },
    {
      "cell_type": "markdown",
      "source": [
        "\"Carnival\"\t{\"Total Ships\": 2, \"Avg Tonnage\": 110.25, \"Max Crew\": 55.0}\n",
        "\"Norwegian\"\t{\"Total Ships\": 1, \"Avg Tonnage\": 90.0, \"Max Crew\": 40.0}\n"
      ],
      "metadata": {
        "id": "bWDsOWrL88sL"
      }
    },
    {
      "cell_type": "markdown",
      "source": [
        "\"TelcoCorp\"\t0.5\n",
        "\"Fibernet\"\t1.0\n",
        "\"DataStreamX\"\t0.0\n"
      ],
      "metadata": {
        "id": "xcpmEdKo9Fj1"
      }
    },
    {
      "cell_type": "markdown",
      "source": [
        "\"IL\"\t1400.0\n",
        "\"MA\"\t1300.0\n",
        "\"FL\"\t800.0\n"
      ],
      "metadata": {
        "id": "wP4AEFDb9MSg"
      }
    },
    {
      "cell_type": "markdown",
      "source": [
        "\"Carnival\"\t235.0\n",
        "\"Norwegian\"\t280.0\n"
      ],
      "metadata": {
        "id": "6X-Btiei9Qey"
      }
    }
  ]
}